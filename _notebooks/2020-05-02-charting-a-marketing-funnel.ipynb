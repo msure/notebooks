{
 "cells": [
  {
   "cell_type": "markdown",
   "metadata": {},
   "source": [
    "# Charting a Marketing Acquisition Funnel\n",
    "---\n",
    "The motiviation was duplicating some of Looker's bar charts when the data itself was not yet in Looker but still needed to be reported"
   ]
  },
  {
   "cell_type": "code",
   "execution_count": 1,
   "metadata": {},
   "outputs": [],
   "source": [
    "%matplotlib inline\n",
    "\n",
    "import pandas as pd\n",
    "from collections import OrderedDict\n",
    "import matplotlib.pyplot as plt\n",
    "import matplotlib.patches as patches\n",
    "\n",
    "import seaborn as sns\n",
    "sns.set_style('whitegrid')"
   ]
  },
  {
   "cell_type": "code",
   "execution_count": 3,
   "metadata": {},
   "outputs": [
    {
     "data": {
      "text/html": [
       "<div>\n",
       "<style scoped>\n",
       "    .dataframe tbody tr th:only-of-type {\n",
       "        vertical-align: middle;\n",
       "    }\n",
       "\n",
       "    .dataframe tbody tr th {\n",
       "        vertical-align: top;\n",
       "    }\n",
       "\n",
       "    .dataframe thead th {\n",
       "        text-align: right;\n",
       "    }\n",
       "</style>\n",
       "<table border=\"1\" class=\"dataframe\">\n",
       "  <thead>\n",
       "    <tr style=\"text-align: right;\">\n",
       "      <th></th>\n",
       "      <th>date</th>\n",
       "      <th>website_traffic</th>\n",
       "      <th>new_accounts</th>\n",
       "      <th>account_verify</th>\n",
       "      <th>product_activated</th>\n",
       "      <th>paid_conversion</th>\n",
       "      <th>some_other_metric</th>\n",
       "    </tr>\n",
       "  </thead>\n",
       "  <tbody>\n",
       "    <tr>\n",
       "      <th>0</th>\n",
       "      <td>2019-08-01</td>\n",
       "      <td>330771</td>\n",
       "      <td>15720</td>\n",
       "      <td>14670</td>\n",
       "      <td>13812</td>\n",
       "      <td>1005</td>\n",
       "      <td>13270</td>\n",
       "    </tr>\n",
       "    <tr>\n",
       "      <th>1</th>\n",
       "      <td>2019-09-01</td>\n",
       "      <td>358652</td>\n",
       "      <td>15900</td>\n",
       "      <td>14884</td>\n",
       "      <td>13909</td>\n",
       "      <td>1011</td>\n",
       "      <td>13678</td>\n",
       "    </tr>\n",
       "    <tr>\n",
       "      <th>2</th>\n",
       "      <td>2019-10-01</td>\n",
       "      <td>407319</td>\n",
       "      <td>16999</td>\n",
       "      <td>15841</td>\n",
       "      <td>14988</td>\n",
       "      <td>9244</td>\n",
       "      <td>14732</td>\n",
       "    </tr>\n",
       "    <tr>\n",
       "      <th>3</th>\n",
       "      <td>2019-11-01</td>\n",
       "      <td>395589</td>\n",
       "      <td>17780</td>\n",
       "      <td>16141</td>\n",
       "      <td>15212</td>\n",
       "      <td>1083</td>\n",
       "      <td>15023</td>\n",
       "    </tr>\n",
       "    <tr>\n",
       "      <th>4</th>\n",
       "      <td>2019-12-01</td>\n",
       "      <td>397580</td>\n",
       "      <td>16568</td>\n",
       "      <td>15267</td>\n",
       "      <td>14314</td>\n",
       "      <td>1051</td>\n",
       "      <td>14092</td>\n",
       "    </tr>\n",
       "  </tbody>\n",
       "</table>\n",
       "</div>"
      ],
      "text/plain": [
       "         date  website_traffic  new_accounts  account_verify  \\\n",
       "0  2019-08-01           330771         15720           14670   \n",
       "1  2019-09-01           358652         15900           14884   \n",
       "2  2019-10-01           407319         16999           15841   \n",
       "3  2019-11-01           395589         17780           16141   \n",
       "4  2019-12-01           397580         16568           15267   \n",
       "\n",
       "   product_activated  paid_conversion  some_other_metric  \n",
       "0              13812             1005              13270  \n",
       "1              13909             1011              13678  \n",
       "2              14988             9244              14732  \n",
       "3              15212             1083              15023  \n",
       "4              14314             1051              14092  "
      ]
     },
     "execution_count": 3,
     "metadata": {},
     "output_type": "execute_result"
    }
   ],
   "source": [
    "# start with some dummy data\n",
    "df = pd.DataFrame({\n",
    "    'date':['2019-08-01','2019-09-01','2019-10-01','2019-11-01','2019-12-01','2020-01-01','2020-02-01','2020-03-01'],\n",
    "    'website_traffic':[330771,358652,407319,395589,397580,415680,483755,581999],\n",
    "    'new_accounts':[15720,15900,16999,17780,16568,18203,22763,32579],\n",
    "    'account_verify':[14670,14884,15841,16141,15267,16344,20653,29365],\n",
    "    'product_activated':[13812,13909,14988,15212,14314,15285,19498,27962],\n",
    "    'paid_conversion':[1005,1011,9244,1083,1051,1151,1560,2173],\n",
    "    'some_other_metric':[13270,13678,14732,15023,14092,15060,19086,26436]\n",
    "})\n",
    "df.head()"
   ]
  },
  {
   "cell_type": "code",
   "execution_count": 4,
   "metadata": {},
   "outputs": [],
   "source": [
    "df['date'] = pd.to_datetime(df['date'],format='%Y-%m-%d')"
   ]
  },
  {
   "cell_type": "code",
   "execution_count": 5,
   "metadata": {},
   "outputs": [
    {
     "name": "stdout",
     "output_type": "stream",
     "text": [
      "<class 'pandas.core.frame.DataFrame'>\n",
      "RangeIndex: 8 entries, 0 to 7\n",
      "Data columns (total 7 columns):\n",
      " #   Column             Non-Null Count  Dtype         \n",
      "---  ------             --------------  -----         \n",
      " 0   date               8 non-null      datetime64[ns]\n",
      " 1   website_traffic    8 non-null      int64         \n",
      " 2   new_accounts       8 non-null      int64         \n",
      " 3   account_verify     8 non-null      int64         \n",
      " 4   product_activated  8 non-null      int64         \n",
      " 5   paid_conversion    8 non-null      int64         \n",
      " 6   some_other_metric  8 non-null      int64         \n",
      "dtypes: datetime64[ns](1), int64(6)\n",
      "memory usage: 576.0 bytes\n"
     ]
    }
   ],
   "source": [
    "df.info()"
   ]
  },
  {
   "cell_type": "code",
   "execution_count": 6,
   "metadata": {},
   "outputs": [],
   "source": [
    "# define only the KPIs we want to see (since there are cases where other metrics are present in the dataframe)\n",
    "all_kpis = ['website_traffic','new_accounts','account_verify','product_activated','paid_conversion']"
   ]
  },
  {
   "cell_type": "code",
   "execution_count": 7,
   "metadata": {},
   "outputs": [],
   "source": [
    "all_names = tuple([x.replace('_','\\n').title() for x in all_kpis])"
   ]
  },
  {
   "cell_type": "code",
   "execution_count": 8,
   "metadata": {},
   "outputs": [],
   "source": [
    "def get_it_in_order(df,mask,month):\n",
    "    \"\"\"\n",
    "    Biggest assumption: there is a 'date' column (not index!) in the dataframe that is *literally named* 'date'\n",
    "    Accepts entire dataframe\n",
    "    Supply a column mask\n",
    "    Supply a list of column names\n",
    "    \"\"\"\n",
    "    kpis = OrderedDict()\n",
    "    frame_2_dict = df.set_index('date').loc[month,idx[mask]].to_dict()\n",
    "    for i in mask:\n",
    "        kpis[i] = frame_2_dict[i]\n",
    "    return kpis"
   ]
  },
  {
   "cell_type": "code",
   "execution_count": 9,
   "metadata": {},
   "outputs": [],
   "source": [
    "def add_arrow(x_adjust,y_adjust,ratio):\n",
    "    bbox_props = dict(boxstyle=\"rarrow,pad=0.5\", facecolor=\"grey\", edgecolor=\"grey\", alpha=0.75, lw=1)\n",
    "    return plt.text(x_adjust,y_adjust,'{0:.1f}%'.format(ratio * 100),\n",
    "            verticalalignment='center',\n",
    "            horizontalalignment='left',\n",
    "            fontsize=16,\n",
    "            weight='black',\n",
    "            color='white',\n",
    "            bbox=bbox_props)"
   ]
  },
  {
   "cell_type": "code",
   "execution_count": 10,
   "metadata": {},
   "outputs": [],
   "source": [
    "def plot_acquisition_funnel(df, month, names, metrics):\n",
    "    data = get_it_in_order(df, metrics, month)\n",
    "    count = range(len(data))\n",
    "    fig, ax = plt.subplots(figsize=(10, 6))\n",
    "    rects = ax.bar(count, data.values(), width=.5, align='center', color=sns.color_palette(\"Blues\", len(data)))\n",
    "    plt.xticks(count, names)\n",
    "    plt.ylim(bottom=0, top=data[metrics[1]]*2)\n",
    "    plt.title('{0} Acquisition Funnel'.format(month), fontsize=16)\n",
    "    plt.tick_params(labelsize=16)\n",
    "    add_arrow(0.27, data[metrics[3]]/1.7, data[metrics[1]]/data[metrics[0]])\n",
    "    add_arrow(1.27, data[metrics[3]]/1.7, data[metrics[2]]/data[metrics[1]])\n",
    "    add_arrow(2.27, data[metrics[3]]/1.7, data[metrics[3]]/data[metrics[2]])\n",
    "    add_arrow(3.27, data[metrics[3]]/1.7, data[metrics[4]]/data[metrics[3]])\n",
    "    for rect, val in zip(rects,data.values()):\n",
    "        height = rect.get_height()\n",
    "        if height > 250:\n",
    "            label_color = 'grey'\n",
    "        else:\n",
    "            label_color = 'white'\n",
    "        ax.text(rect.get_x() + rect.get_width()/2,250,'{:,}'.format(val),ha='center', va='bottom',fontsize=12,weight='bold',color=label_color)\n",
    "    plt.grid(False)\n",
    "    plt.show()"
   ]
  },
  {
   "cell_type": "code",
   "execution_count": 11,
   "metadata": {},
   "outputs": [
    {
     "data": {
      "image/png": "[encoded data removed]",
      "text/plain": [
       "<Figure size 720x432 with 1 Axes>"
      ]
     },
     "metadata": {
      "needs_background": "light"
     },
     "output_type": "display_data"
    }
   ],
   "source": [
    "plot_acquisition_funnel(df,'2019-08-01',all_names,all_kpis)"
   ]
  },
  {
   "cell_type": "code",
   "execution_count": null,
   "metadata": {},
   "outputs": [],
   "source": []
  },
  {
   "cell_type": "code",
   "execution_count": null,
   "metadata": {},
   "outputs": [],
   "source": []
  }
 ],
 "metadata": {
  "kernelspec": {
   "display_name": "Python 3",
   "language": "python",
   "name": "python3"
  },
  "language_info": {
   "codemirror_mode": {
    "name": "ipython",
    "version": 3
   },
   "file_extension": ".py",
   "mimetype": "text/x-python",
   "name": "python",
   "nbconvert_exporter": "python",
   "pygments_lexer": "ipython3",
   "version": "3.7.3"
  }
 },
 "nbformat": 4,
 "nbformat_minor": 4
}
