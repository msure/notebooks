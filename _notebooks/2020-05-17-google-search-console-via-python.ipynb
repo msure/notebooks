{
 "cells": [
  {
   "cell_type": "markdown",
   "metadata": {},
   "source": [
    "# Access Search Console Data via Python\n",
    "> Google's Search Console has come a long way, but there are still times when exploring that data in Python can be particularly useful. This post will show how to download your Google Search Console data via Python.\n",
    "\n",
    "- toc: false\n",
    "- branch: master\n",
    "- badges: true\n",
    "- categories: [apis,seo,pandas,jupyter]\n",
    "- hide: false\n",
    "- search_exclude: false"
   ]
  },
  {
   "cell_type": "markdown",
   "metadata": {},
   "source": [
    "If this is your first time accessing data from a Google API, there's a lot of setup to be done:\n",
    "1. Create a project in Google's [Developer Console](https://console.developers.google.com)\n",
    "2. Enable the API(s) you want to use\n",
    "3. Create the consent screen\n",
    "4. Create and download the OAuth credentials\n",
    "5. Run the script\n",
    "\n",
    "In this tutorial I'll assume you're running the code from your own computer."
   ]
  },
  {
   "cell_type": "markdown",
   "metadata": {},
   "source": [
    "## Lots of Clicking First\n",
    "\n",
    "There's a lot of steps to get done before actually getting to the code. Since I've found myself having to do this every other year, I figured it'd be good to leave step-by-step notes (screenshots included!).\n",
    "\n",
    "First, you need to login to [Developer Console](https://console.developers.google.com) and create a project:\n",
    "\n",
    "![Login to Developer Console and create a project](../images/search_console/01_create_project.png)\n",
    "\n",
    "\n",
    "If you haven't already, create a new project:\n",
    "\n",
    "![Create a new project](../images/search_console/02_new_project.png)\n",
    "\n",
    "Name the project:\n",
    "\n",
    "![Name the project](../images/search_console/03_name_project.png)\n",
    "\n",
    "You'll need to find the specific API you want to enable. I've gotten lost trying to find which button will take you to the API library, so [here's the link instead](https://console.developers.google.com/apis/library). When you've found the API you're looking for, click the `Enable` button. While you're at it, you may want to search for and enable others(such as the [Google Analytics Reporting API](https://developers.google.com/analytics/devguides/reporting/core/v4) or the [Youtube Reporting API](https://developers.google.com/youtube/reporting/v1/reports)) since you can add multiple APIs, or scopes, to one credential:\n",
    "\n",
    "![Enable the Search Console API](../images/search_console/05_enable_api.png)\n",
    "\n",
    "Since I'll be demonstrating an Oauth verification flow, you'll need to create a consent screen:\n",
    "\n",
    "![Create a consent screen](../images/search_console/06_consent_screen.png)\n",
    "\n",
    "There's a dozen fields or so, but only one field in particular matters: the application name. Give it some generic name (but make sure not to include anything related to Google in the name field). You can scoll down to the bottom of the screen and click the Save button.\n",
    "\n",
    "![Name the screen](../images/search_console/07_name_the_screen.png)\n",
    "\n",
    "Almost there. Create the credentials; I've selected the OAuth option.\n",
    "\n",
    "![Create your credentials](../images/search_console/08_create_creds.png)\n",
    "\n",
    "Again, create a generic name, this time for the credentials themselves. One really, really important note: when I use Jupyter Lab on my Macbook Pro, when it starts up I get a notice that port `8888` is already in use, so instead it moves to port `8889`...you'll need to specifiy an unused port here in the \"Authorized redirect URIs\" _and_ remember the port because you'll use it again in the code below. In my case, port `8080` works:\n",
    "\n",
    "![Name the credentials](../images/search_console/09_name_creds.png)\n",
    "\n",
    "Now download the client secrets, and rename to `client_secrets.json` and move the file to the folder you'll access in the code.\n",
    "\n",
    "![Download the credentials](../images/search_console/10_download_creds.png)"
   ]
  },
  {
   "cell_type": "markdown",
   "metadata": {},
   "source": [
    "That marks the end of clicking around in Developer Console. However, note that the first time you run this script you'll have to authorize the script to access your data. Make I'll be using the account for my blog below.\n",
    "\n",
    "There's a whole suite of Google libraries you'll need to install to make sure the script runs:\n",
    "* [Google's Python API client](https://github.com/googleapis/google-api-python-client)\n",
    "* [Google Auth](https://google-auth.readthedocs.io/en/latest/index.html)\n",
    "* Google's [OAuth integration](https://google-auth-oauthlib.readthedocs.io/en/latest/index.html) with the Google Auth library\n",
    "\n",
    "Finally, I've found the [Progress](https://pypi.org/project/progress/) library a fun way to keep track of how far the script has progressed."
   ]
  },
  {
   "cell_type": "code",
   "execution_count": 1,
   "metadata": {},
   "outputs": [],
   "source": [
    "import os\n",
    "import json\n",
    "import time\n",
    "import glob\n",
    "import pickle\n",
    "import random\n",
    "import pandas as pd\n",
    "from pandas import Series, DataFrame\n",
    "from progress.bar import IncrementalBar\n",
    "\n",
    "# these are just for authenticating\n",
    "import google.oauth2.credentials\n",
    "from google_auth_oauthlib.flow import Flow\n",
    "from google_auth_oauthlib.flow import InstalledAppFlow\n",
    "from google.auth.transport.requests import Request\n",
    "\n",
    "# this actually helps access the API\n",
    "from apiclient.discovery import build"
   ]
  },
  {
   "cell_type": "code",
   "execution_count": 2,
   "metadata": {},
   "outputs": [],
   "source": [
    "PROPERTY_URI = 'http://measureallthethin.gs/'\n",
    "\n",
    "OUTPUT_PATH = '../output/search_console_data/'\n",
    "SECRETS_PATH = '../secrets/'\n",
    "CLIENT_SECRETS = SECRETS_PATH + 'client_secrets.json'\n",
    "\n",
    "# notice you can add multiple apis to the credential created earlier :-) \n",
    "SCOPES = ['https://www.googleapis.com/auth/webmasters.readonly','https://www.googleapis.com/auth/analytics.readonly']"
   ]
  },
  {
   "cell_type": "markdown",
   "metadata": {},
   "source": [
    "Probably the most painful part of interfacing with Google's APIs is the fact that every two years the process changes. I spent a whole day and a half trying to figure out how to use the new [Google Auth library](https://google-auth.readthedocs.io/en/latest/index.html) since some of the older libraries have been deprecated. I finally found a great example from the Google Docs team [here](https://github.com/gsuitedevs/python-samples/blob/master/docs/quickstart/quickstart.py) that shows how to easily authenticate from your notebook or command line."
   ]
  },
  {
   "cell_type": "code",
   "execution_count": 3,
   "metadata": {},
   "outputs": [],
   "source": [
    "def prepare_credentials():\n",
    "    creds = None\n",
    "    # the file token.pickle stores the user's access and refresh tokens, and is\n",
    "    # created automatically when the authorization flow completes for the first\n",
    "    # time.\n",
    "    if os.path.exists(SECRETS_PATH + 'token.pickle'):\n",
    "        with open(SECRETS_PATH + 'token.pickle', 'rb') as token:\n",
    "            creds = pickle.load(token)\n",
    "    # if there are no (valid) credentials available, let the user log in\n",
    "    if not creds or not creds.valid:\n",
    "        if creds and creds.expired and creds.refresh_token:\n",
    "            creds.refresh(Request())\n",
    "        else:\n",
    "            flow = InstalledAppFlow.from_client_secrets_file(CLIENT_SECRETS, SCOPES)\n",
    "            creds = flow.run_local_server(port=8080) # remember that port you put into the credentials? use that here in port param\n",
    "        # save the credentials for the next run\n",
    "        with open(SECRETS_PATH + 'token.pickle', 'wb') as token:\n",
    "            pickle.dump(creds, token)\n",
    "    return creds"
   ]
  },
  {
   "cell_type": "markdown",
   "metadata": {},
   "source": [
    "As shown above, multiple APIs can be accessed from one project/set of credentials. I access the Google Analytics API frequently, so below is a quick example showing how to be ready for accessing different endpoints."
   ]
  },
  {
   "cell_type": "code",
   "execution_count": 4,
   "metadata": {},
   "outputs": [],
   "source": [
    "def initialize_service(service='batch'):\n",
    "    \"\"\"\n",
    "    Returns a connection to the Google Analytics v4 API\n",
    "    https://developers.google.com/analytics/devguides/reporting/core/v4/rest/\n",
    "    --OR--\n",
    "    Returns the Webmaster Service Object\n",
    "    https://developers.google.com/webmaster-tools/search-console-api-original/v3/searchanalytics/query\n",
    "    \"\"\"\n",
    "    # make sure your authorized to access API first\n",
    "    credentials = prepare_credentials()\n",
    "    \n",
    "    # build and return the service object\n",
    "    if service == 'batch':\n",
    "        return build('analyticsreporting',\n",
    "                     'v4',\n",
    "                     credentials = credentials,\n",
    "                     discoveryServiceUrl='https://analyticsreporting.googleapis.com/$discovery/rest?version=v4')\n",
    "    elif service == 'user_activty':\n",
    "        return build('analyticsreporting',\n",
    "                     'v4',\n",
    "                     credentials = credentials,\n",
    "                     discoveryServiceUrl='https://analyticsreporting.googleapis.com/v4/userActivity:search')\n",
    "    elif service == 'webmaster':\n",
    "        return build('webmasters',\n",
    "                     'v3',\n",
    "                     credentials = credentials)\n",
    "    else:\n",
    "        raise Exception('Please select an endpoint!')"
   ]
  },
  {
   "cell_type": "markdown",
   "metadata": {},
   "source": [
    "Typically I do not save the data to a variable but instead save it to disk so I can explore further in a notebook:"
   ]
  },
  {
   "cell_type": "code",
   "execution_count": 5,
   "metadata": {},
   "outputs": [],
   "source": [
    "# save JSON of each day's/query's results\n",
    "def file_to_save(start,end,file_info):\n",
    "    return OUTPUT_PATH + '{0}_{1}_{2}.json'.format(start,end,'_'.join(file_info))"
   ]
  },
  {
   "cell_type": "markdown",
   "metadata": {},
   "source": [
    "Google loves, _loves_ returning nested JSON, which can be difficult to deal with in Pandas; this function makes it a bit easier to manage."
   ]
  },
  {
   "cell_type": "code",
   "execution_count": 6,
   "metadata": {},
   "outputs": [],
   "source": [
    "# \"flatten\" response a bit so it's easier to convert into a dataframe\n",
    "def tidy_the_nest(dims,results):\n",
    "    for item in results:\n",
    "        for row in item['rows']:\n",
    "            row.update(dict(zip(dims,row['keys'])))\n",
    "    return results"
   ]
  },
  {
   "cell_type": "markdown",
   "metadata": {},
   "source": [
    "Ok, now the for a monster of a function. I've tried commenting inline as much as possible the clarify the pieces, but overall the gist is that the request sent to Google needs to account for 1) the dimensions you want in the data (such as date, search keyword, etc), and 2) a recursive element based on whether or not Google has returned all the rows available to download."
   ]
  },
  {
   "cell_type": "code",
   "execution_count": 7,
   "metadata": {},
   "outputs": [],
   "source": [
    "# accepts a list of dimensions by which to query the webmaster api, start and end dates, a collection of data, and integer to increment\n",
    "def execute_request(dims,start,end,results=None,i=0):\n",
    "    # saw that get_search_data([\"date\",\"query\"],date_range) was only returning 5k rows...\n",
    "    # turns out when adding in keywords that is the max rows search console will return\n",
    "    # max_rows = 5000\n",
    "    max_rows = 25000\n",
    "    if results is None:\n",
    "        results = []\n",
    "    # create a dict of what exactly we want to query\n",
    "    # https://developers.google.com/webmaster-tools/search-console-api-original/v3/searchanalytics/query\n",
    "    payload = {\n",
    "        \"startDate\": start, # [Required] Start date of the requested date range, in YYYY-MM-DD format, in PST time (UTC - 8:00)\n",
    "        \"endDate\": end, # [Required] End date of the requested date range, in YYYY-MM-DD format, in PST time (UTC - 8:00)\n",
    "        \"dimensions\": dims, # \"country\", \"device\", \"page\", \"query\", \"searchAppearance\":\n",
    "        # https://developers.google.com/webmaster-tools/search-console-api-original/v3/how-tos/all-your-data#overview\n",
    "        \"rowLimit\": max_rows, # [Optional; Valid range is 1–25,000; Default is 1,000] The maximum number of rows to return. To page through results, use the startRow offset.\n",
    "        \"startRow\": i * max_rows # [Optional; Default is 0] Zero-based index of the first row in the response. Must be a non-negative number. If startRow exceeds the number of results for the query, the response will be a successful response with zero rows.\n",
    "        }\n",
    "    # now execute the query and save response\n",
    "    data = service.searchanalytics().query(siteUrl=PROPERTY_URI, body=payload).execute()\n",
    "    # max rows is 25000, so need to make sure we didn't leave any data behind\n",
    "    if 'rows' in data:\n",
    "        results.append(data)\n",
    "        num_of_rows = len(data['rows'])\n",
    "        ### print('Aggregation {0}'.format(data['responseAggregationType']))\n",
    "        ### print(json.dumps(data['rows'][0:2], sort_keys=True,indent=4, separators=(',', ': ')))\n",
    "    else:\n",
    "        num_of_rows = 0\n",
    "    ### print(\"Grabbed {0} rows for loop {1}\".format(num_of_rows,str(i+1)))\n",
    "    # get all the data by essentially paginating through results until none are left\n",
    "    # https://developers.google.com/webmaster-tools/search-console-api-original/v3/how-tos/all-your-data\n",
    "    # important to note this from the documentation:\n",
    "    #   Why do I lose data when asking for more detail?\n",
    "    #   When you group by page and/or query, our system may drop some data in order to be able to calculate results in a reasonable time using a reasonable amount of computing resources.\n",
    "    #   more about data can be found here https://support.google.com/webmasters/answer/6155685\n",
    "    if num_of_rows == max_rows:\n",
    "        time.sleep(1 + random.random())\n",
    "        i += 1\n",
    "        return execute_request(dims,start,end,results=results,i=i)\n",
    "    else:\n",
    "        tidy_the_nest(dims,results)\n",
    "        # save the json response because error handling not yet in place\n",
    "        with open(file_to_save(start,end,dims), 'w') as fp:\n",
    "            json.dump(results, fp)"
   ]
  },
  {
   "cell_type": "markdown",
   "metadata": {},
   "source": [
    "Below is essentially a for loop that gets each day of data from a date range and helps keep track of your progress."
   ]
  },
  {
   "cell_type": "code",
   "execution_count": 24,
   "metadata": {},
   "outputs": [],
   "source": [
    "def get_search_data(dims,dates,n):\n",
    "    \"\"\"\n",
    "    dims: list of dimensions to include in query\n",
    "    dates: date range of type pandas.core.indexes.datetimes.DatetimeIndex\n",
    "    n: string specifying progress of queries to API (e.g., '3 of 5', '4 of 5', '5 of 5')\n",
    "    \"\"\"\n",
    "    # still figuring out how to make Progress bar work in notebooks (this works fine in iTerm...)\n",
    "    # bar = IncrementalBar('Query {0}: {1}'.format(n,', '.join(dims)), max=len(dates))\n",
    "    for i in dates:\n",
    "        date_to_get = '{0}'.format(i.strftime('%Y-%m-%d'))\n",
    "        time.sleep(1 + random.random())\n",
    "        # since we are downloading data day by day, start and end dates are the same\n",
    "        # if you want a range of dates, skip this function and use execute_request() directly\n",
    "        execute_request(dims,date_to_get,date_to_get)\n",
    "        # bar.next()\n",
    "    # bar.finish()"
   ]
  },
  {
   "cell_type": "markdown",
   "metadata": {},
   "source": [
    "> Important: This will kickoff the process to authorize as well as build the service object with which you can interact with the API. It will print a URL, but should redirect you to that URL automagically. It's more seemless if you are also logged in to the Google profile in your default browser that you want to authorize."
   ]
  },
  {
   "cell_type": "code",
   "execution_count": 9,
   "metadata": {},
   "outputs": [],
   "source": [
    "# you should only have to authorize on the first time running this line\n",
    "service = initialize_service(service = 'webmaster')"
   ]
  },
  {
   "cell_type": "markdown",
   "metadata": {},
   "source": [
    "As mentioned above, you should automatically get redirected and see a screen like this. Since I am running Jupyter in regular `http` rather than `https` I got the scary red triangle and had to press the \"continue anyways\" button...\n",
    "\n",
    "![Download the credentials](../images/search_console/11_authorize.png)\n",
    "\n",
    "Make sure you have the right list of APIs here:\n",
    "\n",
    "![Download the credentials](../images/search_console/12_accept.png)\n",
    "\n",
    "This will let you know you're done:\n",
    "\n",
    "![Download the credentials](../images/search_console/13_done.png)"
   ]
  },
  {
   "cell_type": "markdown",
   "metadata": {},
   "source": [
    "Now to finally start getting data! First, set a time range you want to query. I run this script monthly and so use a lazy way of getting one month at a time."
   ]
  },
  {
   "cell_type": "code",
   "execution_count": 10,
   "metadata": {},
   "outputs": [
    {
     "data": {
      "text/plain": [
       "Timestamp('2020-01-31 00:00:00')"
      ]
     },
     "execution_count": 10,
     "metadata": {},
     "output_type": "execute_result"
    }
   ],
   "source": [
    "# not strictly necessary to use pandas to convert to timestamp, but helpful to do so in order to get last day of month\n",
    "start_of_month = '2020-01-01'\n",
    "end_of_month = pd.to_datetime(start_of_month).to_period('M').to_timestamp('M')\n",
    "end_of_month"
   ]
  },
  {
   "cell_type": "code",
   "execution_count": 11,
   "metadata": {},
   "outputs": [],
   "source": [
    "# convert start and end dates to date range using Pandas\n",
    "date_range = pd.date_range(start_of_month,end_of_month,freq='D',normalize=True)"
   ]
  },
  {
   "cell_type": "markdown",
   "metadata": {},
   "source": [
    "Now that there's a date range to work with, query the API :smiley:"
   ]
  },
  {
   "cell_type": "code",
   "execution_count": 12,
   "metadata": {},
   "outputs": [],
   "source": [
    "# now start getting the data and saving the JSON files\n",
    "# more example queries can be found here: https://developers.google.com/webmaster-tools/search-console-api-original/v3/how-tos/search_analytics\n",
    "# and there are a few more examples below\n",
    "execute_request([\"date\"],date_range.min().strftime('%Y-%m-%d'),date_range.max().strftime('%Y-%m-%d'))"
   ]
  },
  {
   "cell_type": "markdown",
   "metadata": {},
   "source": [
    "You could modify the `execute_request` function above to just `return` the JSON directly, but since I find myself running this script once a month to download the previous month's data, I have my own workflow where I just assume I'm going to combine the output from all the previous months."
   ]
  },
  {
   "cell_type": "code",
   "execution_count": 13,
   "metadata": {},
   "outputs": [],
   "source": [
    "def read_json_files(path_to_file):\n",
    "    with open(path_to_file) as p:\n",
    "        data = json.load(p)\n",
    "    return DataFrame.from_dict(data[0]['rows']) "
   ]
  },
  {
   "cell_type": "code",
   "execution_count": 14,
   "metadata": {},
   "outputs": [
    {
     "data": {
      "text/plain": [
       "['../output/search_console_data/2019-11-01_2019-11-30_date.json',\n",
       " '../output/search_console_data/2020-01-01_2020-01-31_date.json']"
      ]
     },
     "execution_count": 14,
     "metadata": {},
     "output_type": "execute_result"
    }
   ],
   "source": [
    "# i've already download some other months of data besides january, which are shown here\n",
    "data_files = glob.glob(OUTPUT_PATH + '*_date.json')\n",
    "data_files[:2]"
   ]
  },
  {
   "cell_type": "code",
   "execution_count": 15,
   "metadata": {},
   "outputs": [
    {
     "data": {
      "text/html": [
       "<div>\n",
       "<style scoped>\n",
       "    .dataframe tbody tr th:only-of-type {\n",
       "        vertical-align: middle;\n",
       "    }\n",
       "\n",
       "    .dataframe tbody tr th {\n",
       "        vertical-align: top;\n",
       "    }\n",
       "\n",
       "    .dataframe thead th {\n",
       "        text-align: right;\n",
       "    }\n",
       "</style>\n",
       "<table border=\"1\" class=\"dataframe\">\n",
       "  <thead>\n",
       "    <tr style=\"text-align: right;\">\n",
       "      <th></th>\n",
       "      <th>clicks</th>\n",
       "      <th>impressions</th>\n",
       "      <th>ctr</th>\n",
       "      <th>position</th>\n",
       "      <th>date</th>\n",
       "    </tr>\n",
       "  </thead>\n",
       "  <tbody>\n",
       "    <tr>\n",
       "      <th>0</th>\n",
       "      <td>4.0</td>\n",
       "      <td>72.0</td>\n",
       "      <td>0.055556</td>\n",
       "      <td>28.930556</td>\n",
       "      <td>2019-11-01</td>\n",
       "    </tr>\n",
       "    <tr>\n",
       "      <th>1</th>\n",
       "      <td>0.0</td>\n",
       "      <td>38.0</td>\n",
       "      <td>0.000000</td>\n",
       "      <td>40.263158</td>\n",
       "      <td>2019-11-02</td>\n",
       "    </tr>\n",
       "    <tr>\n",
       "      <th>2</th>\n",
       "      <td>0.0</td>\n",
       "      <td>41.0</td>\n",
       "      <td>0.000000</td>\n",
       "      <td>39.390244</td>\n",
       "      <td>2019-11-03</td>\n",
       "    </tr>\n",
       "    <tr>\n",
       "      <th>3</th>\n",
       "      <td>2.0</td>\n",
       "      <td>69.0</td>\n",
       "      <td>0.028986</td>\n",
       "      <td>24.898551</td>\n",
       "      <td>2019-11-04</td>\n",
       "    </tr>\n",
       "    <tr>\n",
       "      <th>4</th>\n",
       "      <td>5.0</td>\n",
       "      <td>90.0</td>\n",
       "      <td>0.055556</td>\n",
       "      <td>30.466667</td>\n",
       "      <td>2019-11-05</td>\n",
       "    </tr>\n",
       "  </tbody>\n",
       "</table>\n",
       "</div>"
      ],
      "text/plain": [
       "   clicks  impressions       ctr   position        date\n",
       "0     4.0         72.0  0.055556  28.930556  2019-11-01\n",
       "1     0.0         38.0  0.000000  40.263158  2019-11-02\n",
       "2     0.0         41.0  0.000000  39.390244  2019-11-03\n",
       "3     2.0         69.0  0.028986  24.898551  2019-11-04\n",
       "4     5.0         90.0  0.055556  30.466667  2019-11-05"
      ]
     },
     "execution_count": 15,
     "metadata": {},
     "output_type": "execute_result"
    }
   ],
   "source": [
    "# nice trick from a data science colleague to read in multiple files at once into one dataframe\n",
    "df = pd.concat([read_json_files(f) for f in data_files], ignore_index=True)\n",
    "df = df.drop(['keys'],axis=1)\n",
    "df.head()"
   ]
  },
  {
   "cell_type": "code",
   "execution_count": 16,
   "metadata": {},
   "outputs": [
    {
     "name": "stdout",
     "output_type": "stream",
     "text": [
      "<class 'pandas.core.frame.DataFrame'>\n",
      "RangeIndex: 123 entries, 0 to 122\n",
      "Data columns (total 5 columns):\n",
      " #   Column       Non-Null Count  Dtype         \n",
      "---  ------       --------------  -----         \n",
      " 0   clicks       123 non-null    float64       \n",
      " 1   impressions  123 non-null    float64       \n",
      " 2   ctr          123 non-null    float64       \n",
      " 3   position     123 non-null    float64       \n",
      " 4   date         123 non-null    datetime64[ns]\n",
      "dtypes: datetime64[ns](1), float64(4)\n",
      "memory usage: 4.9 KB\n"
     ]
    }
   ],
   "source": [
    "df['date'] = pd.to_datetime(df['date'],format='%Y-%m-%d')\n",
    "df.info()"
   ]
  },
  {
   "cell_type": "code",
   "execution_count": 17,
   "metadata": {},
   "outputs": [
    {
     "data": {
      "text/plain": [
       "<matplotlib.axes._subplots.AxesSubplot at 0x119e0d280>"
      ]
     },
     "execution_count": 17,
     "metadata": {},
     "output_type": "execute_result"
    },
    {
     "data": {
      "image/png": "[encoded data removed]",
      "text/plain": [
       "<Figure size 432x288 with 1 Axes>"
      ]
     },
     "metadata": {
      "needs_background": "light"
     },
     "output_type": "display_data"
    }
   ],
   "source": [
    "df.set_index('date')['clicks'].plot()"
   ]
  },
  {
   "cell_type": "code",
   "execution_count": 18,
   "metadata": {},
   "outputs": [
    {
     "data": {
      "image/png": "[encoded data removed]",
      "text/plain": [
       "<Figure size 432x288 with 1 Axes>"
      ]
     },
     "metadata": {
      "needs_background": "light"
     },
     "output_type": "display_data"
    }
   ],
   "source": [
    "df.groupby([pd.Grouper(key='date',freq='MS')])['clicks'].sum().plot(marker='o',ylim=0);"
   ]
  },
  {
   "cell_type": "markdown",
   "metadata": {},
   "source": [
    "Here are some more examples of the type of queries I run. Generally, the more granular the less data you get; so I run through a few permutations just to get as much info as I can. With a small blog like this, it doesn't really matter, whereas at work millions of visitors a month can really add up to a lot of rows here..."
   ]
  },
  {
   "cell_type": "code",
   "execution_count": 25,
   "metadata": {},
   "outputs": [],
   "source": [
    "get_search_data([\"date\",\"query\",\"page\"],date_range,'1 of 2')\n",
    "get_search_data([\"date\",\"query\",\"page\",\"device\",\"country\"],date_range,'2 of 2')"
   ]
  }
 ],
 "metadata": {
  "kernelspec": {
   "display_name": "Python 3",
   "language": "python",
   "name": "python3"
  },
  "language_info": {
   "codemirror_mode": {
    "name": "ipython",
    "version": 3
   },
   "file_extension": ".py",
   "mimetype": "text/x-python",
   "name": "python",
   "nbconvert_exporter": "python",
   "pygments_lexer": "ipython3",
   "version": "3.8.2"
  }
 },
 "nbformat": 4,
 "nbformat_minor": 4
}
